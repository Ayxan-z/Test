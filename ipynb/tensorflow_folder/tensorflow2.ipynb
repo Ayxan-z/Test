{
 "cells": [
  {
   "cell_type": "code",
   "execution_count": 1,
   "metadata": {},
   "outputs": [],
   "source": [
    "import tensorflow as tf"
   ]
  },
  {
   "cell_type": "code",
   "execution_count": 47,
   "metadata": {},
   "outputs": [],
   "source": [
    "# physical_devices = tf.config.list_physical_devices('CPU')\n",
    "# tf.config.experimental.set_memory_growth(physical_devices[0], True)"
   ]
  },
  {
   "cell_type": "code",
   "execution_count": 3,
   "metadata": {},
   "outputs": [
    {
     "name": "stdout",
     "output_type": "stream",
     "text": [
      "tf.Tensor(\n",
      "[[1 2 3]\n",
      " [4 5 6]], shape=(2, 3), dtype=int32)\n"
     ]
    }
   ],
   "source": [
    "# x = tf.constant(4, shape=(2, 2), dtype=tf.float32)\n",
    "x = tf.constant([[1,2,3],[4,5,6]])\n",
    "print(x)"
   ]
  },
  {
   "cell_type": "code",
   "execution_count": 12,
   "metadata": {},
   "outputs": [
    {
     "name": "stdout",
     "output_type": "stream",
     "text": [
      "tf.Tensor([1 3 5 7 9], shape=(5,), dtype=int32)\n"
     ]
    }
   ],
   "source": [
    "# x = tf.ones((3,3))\n",
    "# x = tf.zeros((2,3))\n",
    "# x = tf.eye(4)\n",
    "# x = tf.random.normal((3,3), mean=0, stddev=1) # stddev - standard normal distribution\n",
    "# x = tf.random.uniform((1,3), minval=0, maxval=10)\n",
    "# x = tf.range(7)\n",
    "# x = tf.range(start=1, limit=10, delta=2)\n",
    "x = tf.cast(x, dtype=tf.float32) # convert between different types\n",
    "print(x)"
   ]
  },
  {
   "cell_type": "markdown",
   "metadata": {},
   "source": [
    "#### Mathematical Operations"
   ]
  },
  {
   "cell_type": "code",
   "execution_count": 25,
   "metadata": {},
   "outputs": [
    {
     "name": "stdout",
     "output_type": "stream",
     "text": [
      "tf.Tensor([  1  27 125], shape=(3,), dtype=int32)\n"
     ]
    }
   ],
   "source": [
    "x = tf.constant([1,3,5])\n",
    "y = tf.constant([9,7,5])\n",
    "a = tf.constant([[4,2,6], [2,3,7]])\n",
    "\n",
    "# z = tf.add(x, y) # z = x + y\n",
    "# z = tf.subtract(y, x) # z = y - x\n",
    "# z = tf.divide(y, x) # z = y / x\n",
    "# z = tf.multiply(x, y) # z = x * y\n",
    "# z = tf.tensordot(x, y, axes=1) #-------------\n",
    "# z = tf.reduce_sum(a, axis=1) # 4 + 2 + 6 | 2 + 3 + 7\n",
    "# z = tf.reduce_sum(a, axis=0) # 4 + 2 | 2 + 3 | 6 + 7\n",
    "z = x ** 3\n",
    "print(z)"
   ]
  },
  {
   "cell_type": "code",
   "execution_count": 41,
   "metadata": {},
   "outputs": [
    {
     "name": "stdout",
     "output_type": "stream",
     "text": [
      "tf.Tensor(\n",
      "[[-1.1867114   0.08635858  2.0301428 ]\n",
      " [-1.7596318  -1.081399   -0.5300477 ]], shape=(2, 3), dtype=float32)\n",
      "tf.Tensor(\n",
      "[[-0.52714735 -0.22952862  2.6501021   0.5113372 ]\n",
      " [ 0.7046481   0.3680622  -0.73455167 -2.1764154 ]\n",
      " [ 2.1500032   0.30819    -0.18942632  0.20797904]], shape=(3, 4), dtype=float32)\n",
      "tf.Tensor(\n",
      "[[ 5.0512376   0.92983925 -3.5929039  -0.37253475]\n",
      " [-0.9740248  -0.15749164 -3.7684553   1.3435693 ]], shape=(2, 4), dtype=float32)\n"
     ]
    }
   ],
   "source": [
    "x = tf.random.normal((2, 3))\n",
    "y = tf.random.normal((3, 4))\n",
    "\n",
    "print(x)\n",
    "print(y)\n",
    "\n",
    "z = tf.matmul(x, y) # z = x @ y #--------------\n",
    "print(z)"
   ]
  },
  {
   "cell_type": "code",
   "execution_count": 65,
   "metadata": {},
   "outputs": [
    {
     "name": "stdout",
     "output_type": "stream",
     "text": [
      "tf.Tensor([0 2 1], shape=(3,), dtype=int32)\n"
     ]
    }
   ],
   "source": [
    "x = tf.constant([0, 1, 1, 2, 1, 3, 2, 3])\n",
    "\n",
    "indices = tf.constant([0, 3, 4])\n",
    "x_ind = tf.gather(x, indices)\n",
    "\n",
    "print(x_ind)"
   ]
  },
  {
   "cell_type": "code",
   "execution_count": 70,
   "metadata": {},
   "outputs": [
    {
     "name": "stdout",
     "output_type": "stream",
     "text": [
      "tf.Tensor([0 1 2 3 4 5 6 7 8], shape=(9,), dtype=int32)\n",
      "tf.Tensor(\n",
      "[[0 1 2]\n",
      " [3 4 5]\n",
      " [6 7 8]], shape=(3, 3), dtype=int32)\n",
      "tf.Tensor(\n",
      "[[0 3 6]\n",
      " [1 4 7]\n",
      " [2 5 8]], shape=(3, 3), dtype=int32)\n"
     ]
    }
   ],
   "source": [
    "x = tf.range(9)\n",
    "print(x)\n",
    "x = tf.reshape(x, (3, 3))\n",
    "print(x)\n",
    "x = tf.transpose(x, perm=[1, 0]) # column --> <-- row\n",
    "print(x)"
   ]
  },
  {
   "cell_type": "code",
   "execution_count": null,
   "metadata": {},
   "outputs": [],
   "source": []
  }
 ],
 "metadata": {
  "interpreter": {
   "hash": "56b614e834c3b10fd30faed1e2c3c3c53fb4d62efd9bf20af941aec62ccc0919"
  },
  "kernelspec": {
   "display_name": "Python 3.10.3 64-bit",
   "language": "python",
   "name": "python3"
  },
  "language_info": {
   "codemirror_mode": {
    "name": "ipython",
    "version": 3
   },
   "file_extension": ".py",
   "mimetype": "text/x-python",
   "name": "python",
   "nbconvert_exporter": "python",
   "pygments_lexer": "ipython3",
   "version": "3.10.3"
  },
  "orig_nbformat": 4
 },
 "nbformat": 4,
 "nbformat_minor": 2
}
