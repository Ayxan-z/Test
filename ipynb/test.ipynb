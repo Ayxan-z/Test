{
 "cells": [
  {
   "cell_type": "code",
   "execution_count": 1,
   "metadata": {},
   "outputs": [],
   "source": [
    "import numpy as np"
   ]
  },
  {
   "cell_type": "code",
   "execution_count": 4,
   "metadata": {},
   "outputs": [],
   "source": [
    "def _random_init(init_params): \n",
    "    return np.random.choice( \n",
    "        a=range(init_params['n_cities']), \n",
    "        size=init_params['n_cities'], \n",
    "        replace=False \n",
    "    )"
   ]
  },
  {
   "cell_type": "code",
   "execution_count": 5,
   "metadata": {},
   "outputs": [
    {
     "ename": "TypeError",
     "evalue": "list indices must be integers or slices, not str",
     "output_type": "error",
     "traceback": [
      "\u001b[1;31m---------------------------------------------------------------------------\u001b[0m",
      "\u001b[1;31mTypeError\u001b[0m                                 Traceback (most recent call last)",
      "\u001b[1;32mc:\\Users\\shahs\\Documents\\test\\ipynb\\test.ipynb Cell 3'\u001b[0m in \u001b[0;36m<cell line: 1>\u001b[1;34m()\u001b[0m\n\u001b[1;32m----> <a href='vscode-notebook-cell:/c%3A/Users/shahs/Documents/test/ipynb/test.ipynb#ch0000001?line=0'>1</a>\u001b[0m _random_init([\u001b[39m1\u001b[39;49m,\u001b[39m6\u001b[39;49m,\u001b[39m3\u001b[39;49m])\n",
      "\u001b[1;32mc:\\Users\\shahs\\Documents\\test\\ipynb\\test.ipynb Cell 2'\u001b[0m in \u001b[0;36m_random_init\u001b[1;34m(init_params)\u001b[0m\n\u001b[0;32m      <a href='vscode-notebook-cell:/c%3A/Users/shahs/Documents/test/ipynb/test.ipynb#ch0000000?line=0'>1</a>\u001b[0m \u001b[39mdef\u001b[39;00m \u001b[39m_random_init\u001b[39m(init_params): \n\u001b[0;32m      <a href='vscode-notebook-cell:/c%3A/Users/shahs/Documents/test/ipynb/test.ipynb#ch0000000?line=1'>2</a>\u001b[0m     \u001b[39mreturn\u001b[39;00m np\u001b[39m.\u001b[39mrandom\u001b[39m.\u001b[39mchoice( \n\u001b[1;32m----> <a href='vscode-notebook-cell:/c%3A/Users/shahs/Documents/test/ipynb/test.ipynb#ch0000000?line=2'>3</a>\u001b[0m         a\u001b[39m=\u001b[39m\u001b[39mrange\u001b[39m(init_params[\u001b[39m'\u001b[39;49m\u001b[39mn_cities\u001b[39;49m\u001b[39m'\u001b[39;49m]), \n\u001b[0;32m      <a href='vscode-notebook-cell:/c%3A/Users/shahs/Documents/test/ipynb/test.ipynb#ch0000000?line=3'>4</a>\u001b[0m         size\u001b[39m=\u001b[39minit_params[\u001b[39m'\u001b[39m\u001b[39mn_cities\u001b[39m\u001b[39m'\u001b[39m], \n\u001b[0;32m      <a href='vscode-notebook-cell:/c%3A/Users/shahs/Documents/test/ipynb/test.ipynb#ch0000000?line=4'>5</a>\u001b[0m         replace\u001b[39m=\u001b[39m\u001b[39mFalse\u001b[39;00m \n\u001b[0;32m      <a href='vscode-notebook-cell:/c%3A/Users/shahs/Documents/test/ipynb/test.ipynb#ch0000000?line=5'>6</a>\u001b[0m     )\n",
      "\u001b[1;31mTypeError\u001b[0m: list indices must be integers or slices, not str"
     ]
    }
   ],
   "source": [
    "_random_init([1,6,3])"
   ]
  },
  {
   "cell_type": "code",
   "execution_count": null,
   "metadata": {},
   "outputs": [],
   "source": []
  }
 ],
 "metadata": {
  "interpreter": {
   "hash": "56b614e834c3b10fd30faed1e2c3c3c53fb4d62efd9bf20af941aec62ccc0919"
  },
  "kernelspec": {
   "display_name": "Python 3.10.3 64-bit",
   "language": "python",
   "name": "python3"
  },
  "language_info": {
   "codemirror_mode": {
    "name": "ipython",
    "version": 3
   },
   "file_extension": ".py",
   "mimetype": "text/x-python",
   "name": "python",
   "nbconvert_exporter": "python",
   "pygments_lexer": "ipython3",
   "version": "3.10.3"
  },
  "orig_nbformat": 4
 },
 "nbformat": 4,
 "nbformat_minor": 2
}
