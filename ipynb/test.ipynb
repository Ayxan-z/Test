{
 "cells": [
  {
   "cell_type": "code",
   "execution_count": 2,
   "metadata": {},
   "outputs": [],
   "source": [
    "s = 5\n",
    "az_alp = ['a','b','c','ç','d','e','ə','f','g','ğ','h','x','ı','i','j','k',\n",
    "        'q','l','m','n','o','ö','p','r','s','ş','t','u','ü','v','y','z']\n",
    "az_alp_upper = ['A','B','C','Ç','D','E','Ə','F','G','Ğ','H','X','I','İ',\n",
    "                'J','K','Q','L','M','N','O','Ö','P','R','S','Ş','T','U',\n",
    "                'Ü','V','Y','Z']\n",
    "\n",
    "nums = [0,1,2,3,4,5,6,7,8,9,10,11,12,13,14,15,16,17,18,19,20,21,22,23,24,\n",
    "        25,26,27,28,29,30,31,-32,-31,-30,-29,-28,-27,-26,-25,-24,-23,-22,\n",
    "        -21,-20,-19,-18,-17,-15,-14,-13,-12,-11,-10,-9,-8,-7,-6,-5,-4,-3,-2,-1]"
   ]
  },
  {
   "cell_type": "code",
   "execution_count": 14,
   "metadata": {},
   "outputs": [],
   "source": [
    "def encrypt(text):\n",
    "    global az_alp, az_alp_upper, nums, s\n",
    "\n",
    "    result = ''\n",
    "\n",
    "    for t in text:\n",
    "        if t in az_alp:\n",
    "            result += az_alp[nums[az_alp.index(t) + s]]\n",
    "\n",
    "        elif t.upper() in az_alp_upper:\n",
    "            result += az_alp_upper[nums[az_alp_upper.index(t) + s]]\n",
    "\n",
    "        else:\n",
    "            result += t\n",
    "\n",
    "    return result"
   ]
  },
  {
   "cell_type": "code",
   "execution_count": 15,
   "metadata": {},
   "outputs": [],
   "source": [
    "def decrypt(text):\n",
    "    global az_alp, az_alp_upper, nums, s\n",
    "    \n",
    "    result = ''\n",
    "    \n",
    "    for t in text:\n",
    "        if t in az_alp:\n",
    "            result += az_alp[nums[az_alp.index(t) - s]]\n",
    "        \n",
    "        elif t in az_alp_upper:\n",
    "            result += az_alp_upper[nums[az_alp_upper.index(t) - s]]\n",
    "            \n",
    "        else: result += t\n",
    "        \n",
    "    return result"
   ]
  },
  {
   "cell_type": "code",
   "execution_count": 17,
   "metadata": {},
   "outputs": [
    {
     "data": {
      "text/plain": [
       "'eÇ1*'"
      ]
     },
     "execution_count": 17,
     "metadata": {},
     "output_type": "execute_result"
    }
   ],
   "source": [
    "encrypt('aY1*')"
   ]
  },
  {
   "cell_type": "code",
   "execution_count": 18,
   "metadata": {},
   "outputs": [
    {
     "data": {
      "text/plain": [
       "'aY1*'"
      ]
     },
     "execution_count": 18,
     "metadata": {},
     "output_type": "execute_result"
    }
   ],
   "source": [
    "decrypt('eÇ1*')"
   ]
  },
  {
   "cell_type": "code",
   "execution_count": 36,
   "metadata": {},
   "outputs": [],
   "source": [
    "with open(\"C:\\\\Users\\\\shahs\\\\Documents\\\\test\\\\data\\\\rockyou.txt\", 'r', encoding='utf-8', errors='ignore') as f:\n",
    "    passwords = f.readlines()"
   ]
  },
  {
   "cell_type": "code",
   "execution_count": 37,
   "metadata": {},
   "outputs": [],
   "source": [
    "from collections import Counter"
   ]
  },
  {
   "cell_type": "code",
   "execution_count": 38,
   "metadata": {},
   "outputs": [
    {
     "name": "stdout",
     "output_type": "stream",
     "text": [
      "['12345', '123456', 'abc123', '1234567', 'rockyou', 'password', 'iloveyou', 'princess', '12345678', '123456789']\n"
     ]
    }
   ],
   "source": [
    "passwords = [i[:-1] for i in passwords[:10]]\n",
    "passwords_sorted = sorted(passwords, key=len)\n",
    "passwords_counted = Counter(passwords_sorted).most_common()\n",
    "passwords_dict = dict(passwords_counted)\n",
    "passwords_sorted_list = [i[0] for i in passwords_counted]"
   ]
  },
  {
   "cell_type": "code",
   "execution_count": 39,
   "metadata": {},
   "outputs": [],
   "source": [
    "def passwordPossibility(i, password):\n",
    "    global passwords_dict, passwords_sorted_list\n",
    "\n",
    "    for j in passwords_sorted_list[i+1:]:\n",
    "        if password in j:\n",
    "            passwords_dict[password] += 1\n"
   ]
  },
  {
   "cell_type": "code",
   "execution_count": 40,
   "metadata": {},
   "outputs": [],
   "source": [
    "for i in range(len(passwords_sorted_list)):\n",
    "    passwordPossibility(i, passwords_sorted_list[i])"
   ]
  },
  {
   "cell_type": "code",
   "execution_count": 41,
   "metadata": {},
   "outputs": [
    {
     "data": {
      "text/plain": [
       "{'12345': 5,\n",
       " '123456': 4,\n",
       " 'abc123': 1,\n",
       " '1234567': 3,\n",
       " 'rockyou': 1,\n",
       " 'password': 1,\n",
       " 'iloveyou': 1,\n",
       " 'princess': 1,\n",
       " '12345678': 2,\n",
       " '123456789': 1}"
      ]
     },
     "execution_count": 41,
     "metadata": {},
     "output_type": "execute_result"
    }
   ],
   "source": [
    "passwords_dict"
   ]
  },
  {
   "cell_type": "code",
   "execution_count": 1,
   "metadata": {},
   "outputs": [
    {
     "name": "stdout",
     "output_type": "stream",
     "text": [
      "0 a\n",
      "1 b\n"
     ]
    }
   ],
   "source": [
    "for i, j in enumerate(['a','b']):\n",
    "    print(i, j)"
   ]
  },
  {
   "cell_type": "code",
   "execution_count": 2,
   "metadata": {},
   "outputs": [],
   "source": [
    "x = {'a':1}"
   ]
  },
  {
   "cell_type": "code",
   "execution_count": 5,
   "metadata": {},
   "outputs": [],
   "source": [
    "x['a'] += 1"
   ]
  },
  {
   "cell_type": "code",
   "execution_count": 6,
   "metadata": {},
   "outputs": [
    {
     "data": {
      "text/plain": [
       "{'a': 2}"
      ]
     },
     "execution_count": 6,
     "metadata": {},
     "output_type": "execute_result"
    }
   ],
   "source": [
    "x"
   ]
  },
  {
   "cell_type": "code",
   "execution_count": null,
   "metadata": {},
   "outputs": [],
   "source": []
  }
 ],
 "metadata": {
  "interpreter": {
   "hash": "56b614e834c3b10fd30faed1e2c3c3c53fb4d62efd9bf20af941aec62ccc0919"
  },
  "kernelspec": {
   "display_name": "Python 3.10.3 64-bit",
   "language": "python",
   "name": "python3"
  },
  "language_info": {
   "codemirror_mode": {
    "name": "ipython",
    "version": 3
   },
   "file_extension": ".py",
   "mimetype": "text/x-python",
   "name": "python",
   "nbconvert_exporter": "python",
   "pygments_lexer": "ipython3",
   "version": "3.10.3"
  },
  "orig_nbformat": 4
 },
 "nbformat": 4,
 "nbformat_minor": 2
}
