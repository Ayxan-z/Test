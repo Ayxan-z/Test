{
 "cells": [
  {
   "cell_type": "code",
   "execution_count": null,
   "metadata": {},
   "outputs": [],
   "source": [
    "import pandas as pd\n",
    "from collections import Counter\n",
    "import plotly.express as px"
   ]
  },
  {
   "cell_type": "code",
   "execution_count": null,
   "metadata": {},
   "outputs": [],
   "source": [
    "data = pd.read_csv('../data/WATCHLIST.csv')"
   ]
  },
  {
   "cell_type": "code",
   "execution_count": null,
   "metadata": {},
   "outputs": [],
   "source": [
    "data.rename(columns = {'Title Type': 'Title_Type'}, inplace = True)\n",
    "\n",
    "# ======================================== All ========================================\n",
    "\n",
    "data_all = pd.DataFrame({'title': data['Title'], 'genres': data['Genres']})\n",
    "\n",
    "genres_all = []\n",
    "for i in data_all['genres']:\n",
    "    genres_all += i.replace(' ', '').split(',')\n",
    "genres_all_count = Counter(genres_all)\n",
    "\n",
    "# ======================================== tvSeries, tvMiniSeries ========================================\n",
    "\n",
    "data_series = data.query(\"Title_Type == 'tvSeries' or Title_Type == 'tvMiniSeries'\")\n",
    "data_series = pd.DataFrame({'title': data_series['Title'], 'genres': data_series['Genres']})\n",
    "\n",
    "genres_series = []\n",
    "for i in data_series['genres']:\n",
    "    genres_series += i.replace(' ', '').split(',')\n",
    "genres_series_count = Counter(genres_series)\n",
    "\n",
    "# ======================================== movie, tvMovie ========================================\n",
    "\n",
    "data_movie = data.query(\"Title_Type == 'movie' or Title_Type == 'tvMovie'\")\n",
    "data_movie = pd.DataFrame({'title': data_movie['Title'], 'genres': data_movie['Genres']})\n",
    "\n",
    "genres_movie = []\n",
    "for i in data_movie['genres']:\n",
    "    genres_movie += i.replace(' ', '').split(',')\n",
    "genres_movie_count = Counter(genres_movie)"
   ]
  },
  {
   "cell_type": "code",
   "execution_count": null,
   "metadata": {},
   "outputs": [],
   "source": [
    "px.pie(pd.DataFrame({'title': genres_all_count.keys(), 'count': genres_all_count.values()}),\n",
    "        names='title', values='count', title='All genres')"
   ]
  },
  {
   "cell_type": "code",
   "execution_count": null,
   "metadata": {},
   "outputs": [],
   "source": [
    "px.pie(pd.DataFrame({'title': genres_movie_count.keys(), 'count': genres_movie_count.values()}),\n",
    "        names='title', values='count', title='Movie genres')"
   ]
  },
  {
   "cell_type": "code",
   "execution_count": null,
   "metadata": {},
   "outputs": [],
   "source": [
    "px.pie(pd.DataFrame({'title': genres_series_count.keys(), 'count': genres_series_count.values()}),\n",
    "        names='title', values='count', title='Series genres')"
   ]
  },
  {
   "cell_type": "code",
   "execution_count": null,
   "metadata": {},
   "outputs": [],
   "source": [
    "px.bar(x=genres_movie_count.keys(), y=genres_movie_count.values())"
   ]
  },
  {
   "cell_type": "code",
   "execution_count": null,
   "metadata": {},
   "outputs": [],
   "source": [
    "px.bar(x=genres_series_count.keys(), y=genres_series_count.values())"
   ]
  },
  {
   "cell_type": "code",
   "execution_count": null,
   "metadata": {},
   "outputs": [],
   "source": [
    "px.bar(x=genres_all_count.keys(), y=genres_all_count.values())"
   ]
  },
  {
   "cell_type": "code",
   "execution_count": null,
   "metadata": {},
   "outputs": [],
   "source": []
  }
 ],
 "metadata": {
  "interpreter": {
   "hash": "e8c5b4b062ec146843a4e9257c4b55bed920629d075dd594dd6a143d7c4ec2fe"
  },
  "kernelspec": {
   "display_name": "Python 3.10.3 64-bit",
   "language": "python",
   "name": "python3"
  },
  "language_info": {
   "codemirror_mode": {
    "name": "ipython",
    "version": 3
   },
   "file_extension": ".py",
   "mimetype": "text/x-python",
   "name": "python",
   "nbconvert_exporter": "python",
   "pygments_lexer": "ipython3",
   "version": "3.10.3"
  },
  "orig_nbformat": 4
 },
 "nbformat": 4,
 "nbformat_minor": 2
}
