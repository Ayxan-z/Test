{
 "cells": [
  {
   "cell_type": "markdown",
   "metadata": {},
   "source": [
    "### https://towardsdatascience.com/decision-tree-algorithm-in-python-from-scratch-8c43f0e40173"
   ]
  },
  {
   "cell_type": "code",
   "execution_count": null,
   "metadata": {},
   "outputs": [],
   "source": [
    "import pandas as pd \n",
    "\n",
    "# Array math\n",
    "import numpy as np \n",
    "\n",
    "# Quick value count calculator\n",
    "from collections import Counter\n",
    "\n",
    "\n",
    "class Node: \n",
    "    \"\"\"\n",
    "    Class for creating the nodes for a decision tree \n",
    "    \"\"\"\n",
    "    def __init__(\n",
    "        self, \n",
    "        Y: list,\n",
    "        X: pd.DataFrame,\n",
    "        min_samples_split=None,\n",
    "        max_depth=None,\n",
    "        depth=None,\n",
    "        node_type=None,\n",
    "        rule=None\n",
    "    ):\n",
    "        # Saving the data to the node \n",
    "        self.Y = Y \n",
    "        self.X = X\n",
    "\n",
    "        # Saving the hyper parameters\n",
    "        self.min_samples_split = min_samples_split if min_samples_split else 20\n",
    "        self.max_depth = max_depth if max_depth else 5\n",
    "\n",
    "        # Default current depth of node \n",
    "        self.depth = depth if depth else 0\n",
    "\n",
    "        # Extracting all the features\n",
    "        self.features = list(self.X.columns)\n",
    "\n",
    "        # Type of node \n",
    "        self.node_type = node_type if node_type else 'root'\n",
    "\n",
    "        # Rule for spliting \n",
    "        self.rule = rule if rule else \"\"\n",
    "\n",
    "        # Calculating the counts of Y in the node \n",
    "        self.counts = Counter(Y)\n",
    "\n",
    "        # Getting the GINI impurity based on the Y distribution\n",
    "        self.gini_impurity = self.get_GINI()\n",
    "\n",
    "        # Sorting the counts and saving the final prediction of the node \n",
    "        counts_sorted = list(sorted(self.counts.items(), key=lambda item: item[1]))\n",
    "\n",
    "        # Getting the last item\n",
    "        yhat = None\n",
    "        if len(counts_sorted) > 0:\n",
    "            yhat = counts_sorted[-1][0]\n",
    "\n",
    "        # Saving to object attribute. This node will predict the class with the most frequent class\n",
    "        self.yhat = yhat \n",
    "\n",
    "        # Saving the number of observations in the node \n",
    "        self.n = len(Y)\n",
    "\n",
    "        # Initiating the left and right nodes as empty nodes\n",
    "        self.left = None \n",
    "        self.right = None \n",
    "\n",
    "        # Default values for splits\n",
    "        self.best_feature = None \n",
    "        self.best_value = None \n",
    "\n",
    "    @staticmethod\n",
    "    def GINI_impurity(y1_count: int, y2_count: int) -> float:\n",
    "        \"\"\"\n",
    "        Given the observations of a binary class calculate the GINI impurity\n",
    "        \"\"\"\n",
    "        # Ensuring the correct types\n",
    "        if y1_count is None: y1_count = 0\n",
    "\n",
    "        if y2_count is None: y2_count = 0\n",
    "\n",
    "        # Getting the total observations\n",
    "        n = y1_count + y2_count\n",
    "        \n",
    "        # If n is 0 then we return the lowest possible gini impurity\n",
    "        if n == 0:\n",
    "            return 0.0\n",
    "\n",
    "        # Getting the probability to see each of the classes\n",
    "        p1 = y1_count / n\n",
    "        p2 = y2_count / n\n",
    "\n",
    "        # Calculating GINI\n",
    "        gini = 1 - (p1 ** 2 + p2 ** 2)\n",
    "\n",
    "        # Returning the gini impurity\n",
    "        return gini\n",
    "\n",
    "    @staticmethod\n",
    "    def ma(x: np.array, window: int) -> np.array:\n",
    "        \"\"\"\n",
    "        Calculates the moving average of the given list. \n",
    "        \"\"\"\n",
    "        return np.convolve(x, np.ones(window), 'valid') / window\n",
    "\n",
    "    def get_GINI(self):\n",
    "        \"\"\"\n",
    "        Function to calculate the GINI impurity of a node\n",
    "        \"\"\"\n",
    "        # Getting the 0 and 1 counts\n",
    "        y1_count, y2_count = self.counts.get(0, 0), self.counts.get(1, 0)\n",
    "\n",
    "        # Getting the GINI impurity\n",
    "        return self.GINI_impurity(y1_count, y2_count)\n",
    "\n",
    "    def best_split(self) -> tuple:\n",
    "        \"\"\"\n",
    "        Given the X features and Y targets calculates the best split \n",
    "        for a decision tree\n",
    "        \"\"\"\n",
    "        # Creating a dataset for spliting\n",
    "        df = self.X.copy()\n",
    "        df['Y'] = self.Y\n",
    "\n",
    "        # Getting the GINI impurity for the base input \n",
    "        GINI_base = self.get_GINI()\n",
    "\n",
    "        # Finding which split yields the best GINI gain\n",
    "        max_gain = 0\n",
    "\n",
    "        # Default best feature and split\n",
    "        best_feature = None\n",
    "        best_value = None\n",
    "\n",
    "        for feature in self.features:\n",
    "            # Droping missing values\n",
    "            Xdf = df.dropna().sort_values(feature)\n",
    "\n",
    "            # Sorting the values and getting the rolling average\n",
    "            xmeans = self.ma(Xdf[feature].unique(), 2)\n",
    "\n",
    "            for value in xmeans:\n",
    "                # Spliting the dataset\n",
    "                left_counts = Counter(Xdf[Xdf[feature]<value]['Y'])\n",
    "                right_counts = Counter(Xdf[Xdf[feature]>=value]['Y'])\n",
    "\n",
    "                # Getting the Y distribution from the dicts\n",
    "                y0_left, y1_left, y0_right, y1_right = left_counts.get(0, 0), left_counts.get(1, 0), right_counts.get(0, 0), right_counts.get(1, 0)\n",
    "\n",
    "                # Getting the left and right gini impurities\n",
    "                gini_left = self.GINI_impurity(y0_left, y1_left)\n",
    "                gini_right = self.GINI_impurity(y0_right, y1_right)\n",
    "\n",
    "                # Getting the obs count from the left and the right data splits\n",
    "                n_left = y0_left + y1_left\n",
    "                n_right = y0_right + y1_right\n",
    "\n",
    "                # Calculating the weights for each of the nodes\n",
    "                w_left = n_left / (n_left + n_right)\n",
    "                w_right = n_right / (n_left + n_right)\n",
    "\n",
    "                # Calculating the weighted GINI impurity\n",
    "                wGINI = w_left * gini_left + w_right * gini_right\n",
    "\n",
    "                # Calculating the GINI gain \n",
    "                GINIgain = GINI_base - wGINI\n",
    "\n",
    "                # Checking if this is the best split so far \n",
    "                if GINIgain > max_gain:\n",
    "                    best_feature = feature\n",
    "                    best_value = value \n",
    "\n",
    "                    # Setting the best gain to the current one \n",
    "                    max_gain = GINIgain\n",
    "\n",
    "        return (best_feature, best_value)\n",
    "\n",
    "    def grow_tree(self):\n",
    "        \"\"\"\n",
    "        Recursive method to create the decision tree\n",
    "        \"\"\"\n",
    "        # Making a df from the data\n",
    "        df = self.X.copy()\n",
    "        df['Y'] = self.Y\n",
    "\n",
    "        # If there is GINI to be gained, we split further\n",
    "        if (self.depth < self.max_depth) and (self.n >= self.min_samples_split):\n",
    "\n",
    "            # Getting the best split\n",
    "            best_feature, best_value = self.best_split()\n",
    "\n",
    "            if best_feature is not None:\n",
    "                # Saving the best split to the current node \n",
    "                self.best_feature = best_feature\n",
    "                self.best_value = best_value\n",
    "\n",
    "                # Getting the left and right nodes\n",
    "                left_df, right_df = df[df[best_feature]<=best_value].copy(), df[df[best_feature]>best_value].copy()\n",
    "\n",
    "                # Creating the left and right nodes\n",
    "                left = Node(\n",
    "                    left_df['Y'].values.tolist(), \n",
    "                    left_df[self.features], \n",
    "                    depth=self.depth + 1, \n",
    "                    max_depth=self.max_depth, \n",
    "                    min_samples_split=self.min_samples_split, \n",
    "                    node_type='left_node',\n",
    "                    rule=f\"{best_feature} <= {round(best_value, 3)}\"\n",
    "                    )\n",
    "\n",
    "                self.left = left \n",
    "                self.left.grow_tree()\n",
    "\n",
    "                right = Node(\n",
    "                    right_df['Y'].values.tolist(), \n",
    "                    right_df[self.features], \n",
    "                    depth=self.depth + 1, \n",
    "                    max_depth=self.max_depth, \n",
    "                    min_samples_split=self.min_samples_split,\n",
    "                    node_type='right_node',\n",
    "                    rule=f\"{best_feature} > {round(best_value, 3)}\"\n",
    "                    )\n",
    "\n",
    "                self.right = right\n",
    "                self.right.grow_tree()\n",
    "\n",
    "    def print_info(self, width=4):\n",
    "        \"\"\"\n",
    "        Method to print the infromation about the tree\n",
    "        \"\"\"\n",
    "        # Defining the number of spaces \n",
    "        const = int(self.depth * width ** 1.5)\n",
    "        spaces = \"-\" * const\n",
    "        \n",
    "        if self.node_type == 'root':\n",
    "            print(\"Root\")\n",
    "        else:\n",
    "            print(f\"|{spaces} Split rule: {self.rule}\")\n",
    "        print(f\"{' ' * const}   | GINI impurity of the node: {round(self.gini_impurity, 2)}\")\n",
    "        print(f\"{' ' * const}   | Class distribution in the node: {dict(self.counts)}\")\n",
    "        print(f\"{' ' * const}   | Predicted class: {self.yhat}\")   \n",
    "\n",
    "    def print_tree(self):\n",
    "        \"\"\"\n",
    "        Prints the whole tree from the current node to the bottom\n",
    "        \"\"\"\n",
    "        self.print_info()\n",
    "        \n",
    "        if self.left is not None: \n",
    "            self.left.print_tree()\n",
    "        \n",
    "        if self.right is not None:\n",
    "            self.right.print_tree()\n",
    "\n",
    "    def predict(self, X:pd.DataFrame):\n",
    "        \"\"\"\n",
    "        Batch prediction method\n",
    "        \"\"\"\n",
    "        predictions = []\n",
    "\n",
    "        for _, x in X.iterrows():\n",
    "            values = {}\n",
    "            for feature in self.features:\n",
    "                values.update({feature: x[feature]})\n",
    "        \n",
    "            predictions.append(self.predict_obs(values))\n",
    "        \n",
    "        return predictions\n",
    "\n",
    "    def predict_obs(self, values: dict) -> int:\n",
    "        \"\"\"\n",
    "        Method to predict the class given a set of features\n",
    "        \"\"\"\n",
    "        cur_node = self\n",
    "        while cur_node.depth < cur_node.max_depth:\n",
    "            # Traversing the nodes all the way to the bottom\n",
    "            best_feature = cur_node.best_feature\n",
    "            best_value = cur_node.best_value\n",
    "\n",
    "            if cur_node.n < cur_node.min_samples_split:\n",
    "                break \n",
    "\n",
    "            if (values.get(best_feature) < best_value):\n",
    "                if self.left is not None:\n",
    "                    cur_node = cur_node.left\n",
    "            else:\n",
    "                if self.right is not None:\n",
    "                    cur_node = cur_node.right\n",
    "            \n",
    "        return cur_node.yhat"
   ]
  },
  {
   "cell_type": "code",
   "execution_count": null,
   "metadata": {},
   "outputs": [],
   "source": [
    "d = pd.read_csv(\"../data/train.csv\")[['Age', 'Fare', 'Survived']].dropna()"
   ]
  },
  {
   "cell_type": "code",
   "execution_count": null,
   "metadata": {},
   "outputs": [],
   "source": [
    "X = d[['Age', 'Fare']]\n",
    "Y = d['Survived'].values.tolist()"
   ]
  },
  {
   "cell_type": "code",
   "execution_count": null,
   "metadata": {},
   "outputs": [],
   "source": [
    "root = Node(Y, X, max_depth=3, min_samples_split=100)"
   ]
  },
  {
   "cell_type": "code",
   "execution_count": null,
   "metadata": {},
   "outputs": [],
   "source": [
    "root.grow_tree()"
   ]
  },
  {
   "cell_type": "code",
   "execution_count": null,
   "metadata": {},
   "outputs": [],
   "source": [
    "root.print_tree()"
   ]
  },
  {
   "cell_type": "code",
   "execution_count": null,
   "metadata": {},
   "outputs": [],
   "source": [
    "Xsubset = X.copy()\n",
    "Xsubset['yhat'] = root.predict(Xsubset)\n",
    "print(Xsubset)"
   ]
  },
  {
   "cell_type": "markdown",
   "metadata": {},
   "source": [
    "### With Sklearn"
   ]
  },
  {
   "cell_type": "code",
   "execution_count": null,
   "metadata": {},
   "outputs": [],
   "source": [
    "import pandas as pd\n",
    "from sklearn.tree import DecisionTreeClassifier # Import Decision Tree Classifier\n",
    "from sklearn.model_selection import train_test_split # Import train_test_split function\n",
    "from sklearn import metrics #Import scikit-learn metrics module for accuracy calculation"
   ]
  },
  {
   "cell_type": "code",
   "execution_count": null,
   "metadata": {},
   "outputs": [],
   "source": [
    "col_names = ['PassengerId', 'Survived', 'Pclass', 'Name', 'Sex', 'Age', 'SibSp', 'Parch', 'Ticket', 'Fare', 'Cabin', 'Embarked']\n",
    "\n",
    "pima = pd.read_csv(\"../data/train.csv\", header=None, names=col_names).dropna()[1:]"
   ]
  },
  {
   "cell_type": "code",
   "execution_count": null,
   "metadata": {},
   "outputs": [],
   "source": [
    "# split dataset in features and target variable\n",
    "x = pima[['Age', 'Fare']] # Features\n",
    "y = pima.Survived # Target variable"
   ]
  },
  {
   "cell_type": "code",
   "execution_count": null,
   "metadata": {},
   "outputs": [],
   "source": [
    "# Split dataset into training set and test set\n",
    "x_train, x_test, y_train, y_test = train_test_split(x, y, test_size=0.3, random_state=1) # 70% training and 30% test"
   ]
  },
  {
   "cell_type": "code",
   "execution_count": null,
   "metadata": {},
   "outputs": [],
   "source": [
    "# Create Decision Tree classifer object\n",
    "clf = DecisionTreeClassifier()"
   ]
  },
  {
   "cell_type": "code",
   "execution_count": null,
   "metadata": {},
   "outputs": [],
   "source": [
    "# Train Decision Tree Classifer\n",
    "clf = clf.fit(x_train, y_train)"
   ]
  },
  {
   "cell_type": "code",
   "execution_count": null,
   "metadata": {},
   "outputs": [],
   "source": [
    "# Predict the response for test dataset\n",
    "y_pred = clf.predict(x_test)"
   ]
  },
  {
   "cell_type": "code",
   "execution_count": null,
   "metadata": {},
   "outputs": [
    {
     "data": {
      "text/plain": [
       "array(['1', '0', '1', '0', '0', '0', '1', '0', '0', '0', '1', '0', '0',\n",
       "       '1', '1', '0', '1', '0', '1', '1', '0', '1', '1', '1', '1', '1',\n",
       "       '0', '1', '0', '1', '1', '1', '1', '0', '1', '1', '0', '1', '0',\n",
       "       '0', '1', '0', '0', '0', '1', '0', '1', '1', '1', '1', '0', '0',\n",
       "       '0', '0', '1'], dtype=object)"
      ]
     },
     "metadata": {},
     "output_type": "display_data"
    }
   ],
   "source": [
    "y_pred"
   ]
  },
  {
   "cell_type": "markdown",
   "metadata": {},
   "source": [
    "### https://www.datacamp.com/community/tutorials/decision-tree-classification-python"
   ]
  },
  {
   "cell_type": "code",
   "execution_count": 1,
   "metadata": {},
   "outputs": [],
   "source": [
    "import pandas as pd\n",
    "from sklearn.tree import DecisionTreeClassifier # Import Decision Tree Classifier\n",
    "from sklearn.model_selection import train_test_split # Import train_test_split function\n",
    "from sklearn import metrics #Import scikit-learn metrics module for accuracy calculation"
   ]
  },
  {
   "cell_type": "code",
   "execution_count": 2,
   "metadata": {},
   "outputs": [],
   "source": [
    "col_names = ['pregnant', 'glucose', 'bp', 'skin', 'insulin', 'bmi', 'pedigree', 'age', 'label']\n",
    "\n",
    "pima = pd.read_csv(\"../data/diabetes.csv\", header=None, names=col_names)[1:]"
   ]
  },
  {
   "cell_type": "code",
   "execution_count": 3,
   "metadata": {},
   "outputs": [],
   "source": [
    "# split dataset in features and target variable\n",
    "feature_cols = ['pregnant', 'insulin', 'bmi', 'age','glucose','bp','pedigree']\n",
    "x = pima[feature_cols] # Features\n",
    "y = pima.label # Target variable"
   ]
  },
  {
   "cell_type": "code",
   "execution_count": 4,
   "metadata": {},
   "outputs": [],
   "source": [
    "# Split dataset into training set and test set\n",
    "x_train, x_test, y_train, y_test = train_test_split(x, y, test_size=0.3, random_state=1) # 70% training and 30% test"
   ]
  },
  {
   "cell_type": "code",
   "execution_count": 9,
   "metadata": {},
   "outputs": [],
   "source": [
    "# Create Decision Tree classifer object\n",
    "clf = DecisionTreeClassifier() # criterion=\"entropy\", max_depth=3"
   ]
  },
  {
   "cell_type": "code",
   "execution_count": 10,
   "metadata": {},
   "outputs": [],
   "source": [
    "# Train Decision Tree Classifer\n",
    "clf = clf.fit(x_train, y_train)"
   ]
  },
  {
   "cell_type": "code",
   "execution_count": 11,
   "metadata": {},
   "outputs": [],
   "source": [
    "# Predict the response for test dataset\n",
    "y_pred = clf.predict(x_test)"
   ]
  },
  {
   "cell_type": "markdown",
   "metadata": {},
   "source": [
    "### https://www.javatpoint.com/machine-learning-decision-tree-classification-algorithm"
   ]
  },
  {
   "cell_type": "code",
   "execution_count": 42,
   "metadata": {},
   "outputs": [],
   "source": [
    "import numpy as nm  \n",
    "import matplotlib.pyplot as mtp  \n",
    "import pandas as pd\n",
    "from sklearn.model_selection import train_test_split\n",
    "from sklearn.preprocessing import StandardScaler\n",
    "from sklearn.tree import DecisionTreeClassifier "
   ]
  },
  {
   "cell_type": "code",
   "execution_count": 36,
   "metadata": {},
   "outputs": [],
   "source": [
    "#importing datasets  \n",
    "data_set= pd.read_csv('../data/train.csv').dropna()"
   ]
  },
  {
   "cell_type": "code",
   "execution_count": 37,
   "metadata": {},
   "outputs": [
    {
     "data": {
      "text/html": [
       "<div>\n",
       "<style scoped>\n",
       "    .dataframe tbody tr th:only-of-type {\n",
       "        vertical-align: middle;\n",
       "    }\n",
       "\n",
       "    .dataframe tbody tr th {\n",
       "        vertical-align: top;\n",
       "    }\n",
       "\n",
       "    .dataframe thead th {\n",
       "        text-align: right;\n",
       "    }\n",
       "</style>\n",
       "<table border=\"1\" class=\"dataframe\">\n",
       "  <thead>\n",
       "    <tr style=\"text-align: right;\">\n",
       "      <th></th>\n",
       "      <th>PassengerId</th>\n",
       "      <th>Survived</th>\n",
       "      <th>Pclass</th>\n",
       "      <th>Name</th>\n",
       "      <th>Sex</th>\n",
       "      <th>Age</th>\n",
       "      <th>SibSp</th>\n",
       "      <th>Parch</th>\n",
       "      <th>Ticket</th>\n",
       "      <th>Fare</th>\n",
       "      <th>Cabin</th>\n",
       "      <th>Embarked</th>\n",
       "    </tr>\n",
       "  </thead>\n",
       "  <tbody>\n",
       "    <tr>\n",
       "      <th>1</th>\n",
       "      <td>2</td>\n",
       "      <td>1</td>\n",
       "      <td>1</td>\n",
       "      <td>Cumings, Mrs. John Bradley (Florence Briggs Th...</td>\n",
       "      <td>female</td>\n",
       "      <td>38.0</td>\n",
       "      <td>1</td>\n",
       "      <td>0</td>\n",
       "      <td>PC 17599</td>\n",
       "      <td>71.2833</td>\n",
       "      <td>C85</td>\n",
       "      <td>C</td>\n",
       "    </tr>\n",
       "    <tr>\n",
       "      <th>3</th>\n",
       "      <td>4</td>\n",
       "      <td>1</td>\n",
       "      <td>1</td>\n",
       "      <td>Futrelle, Mrs. Jacques Heath (Lily May Peel)</td>\n",
       "      <td>female</td>\n",
       "      <td>35.0</td>\n",
       "      <td>1</td>\n",
       "      <td>0</td>\n",
       "      <td>113803</td>\n",
       "      <td>53.1000</td>\n",
       "      <td>C123</td>\n",
       "      <td>S</td>\n",
       "    </tr>\n",
       "    <tr>\n",
       "      <th>6</th>\n",
       "      <td>7</td>\n",
       "      <td>0</td>\n",
       "      <td>1</td>\n",
       "      <td>McCarthy, Mr. Timothy J</td>\n",
       "      <td>male</td>\n",
       "      <td>54.0</td>\n",
       "      <td>0</td>\n",
       "      <td>0</td>\n",
       "      <td>17463</td>\n",
       "      <td>51.8625</td>\n",
       "      <td>E46</td>\n",
       "      <td>S</td>\n",
       "    </tr>\n",
       "    <tr>\n",
       "      <th>10</th>\n",
       "      <td>11</td>\n",
       "      <td>1</td>\n",
       "      <td>3</td>\n",
       "      <td>Sandstrom, Miss. Marguerite Rut</td>\n",
       "      <td>female</td>\n",
       "      <td>4.0</td>\n",
       "      <td>1</td>\n",
       "      <td>1</td>\n",
       "      <td>PP 9549</td>\n",
       "      <td>16.7000</td>\n",
       "      <td>G6</td>\n",
       "      <td>S</td>\n",
       "    </tr>\n",
       "    <tr>\n",
       "      <th>11</th>\n",
       "      <td>12</td>\n",
       "      <td>1</td>\n",
       "      <td>1</td>\n",
       "      <td>Bonnell, Miss. Elizabeth</td>\n",
       "      <td>female</td>\n",
       "      <td>58.0</td>\n",
       "      <td>0</td>\n",
       "      <td>0</td>\n",
       "      <td>113783</td>\n",
       "      <td>26.5500</td>\n",
       "      <td>C103</td>\n",
       "      <td>S</td>\n",
       "    </tr>\n",
       "  </tbody>\n",
       "</table>\n",
       "</div>"
      ],
      "text/plain": [
       "    PassengerId  Survived  Pclass  \\\n",
       "1             2         1       1   \n",
       "3             4         1       1   \n",
       "6             7         0       1   \n",
       "10           11         1       3   \n",
       "11           12         1       1   \n",
       "\n",
       "                                                 Name     Sex   Age  SibSp  \\\n",
       "1   Cumings, Mrs. John Bradley (Florence Briggs Th...  female  38.0      1   \n",
       "3        Futrelle, Mrs. Jacques Heath (Lily May Peel)  female  35.0      1   \n",
       "6                             McCarthy, Mr. Timothy J    male  54.0      0   \n",
       "10                    Sandstrom, Miss. Marguerite Rut  female   4.0      1   \n",
       "11                           Bonnell, Miss. Elizabeth  female  58.0      0   \n",
       "\n",
       "    Parch    Ticket     Fare Cabin Embarked  \n",
       "1       0  PC 17599  71.2833   C85        C  \n",
       "3       0    113803  53.1000  C123        S  \n",
       "6       0     17463  51.8625   E46        S  \n",
       "10      1   PP 9549  16.7000    G6        S  \n",
       "11      0    113783  26.5500  C103        S  "
      ]
     },
     "execution_count": 37,
     "metadata": {},
     "output_type": "execute_result"
    }
   ],
   "source": [
    "data_set.head()"
   ]
  },
  {
   "cell_type": "code",
   "execution_count": 38,
   "metadata": {},
   "outputs": [],
   "source": [
    "# Extracting Independent and dependent Variable\n",
    "x = data_set.iloc[:, [5,9]].values  \n",
    "y = data_set.iloc[:, 1].values"
   ]
  },
  {
   "cell_type": "code",
   "execution_count": 39,
   "metadata": {},
   "outputs": [],
   "source": [
    "# Splitting the dataset into training and test set.  \n",
    "x_train, x_test, y_train, y_test= train_test_split(x, y, test_size= 0.25, random_state=0)"
   ]
  },
  {
   "cell_type": "code",
   "execution_count": 40,
   "metadata": {},
   "outputs": [],
   "source": [
    "# feature Scaling  \n",
    "st_x= StandardScaler()\n",
    "x_train= st_x.fit_transform(x_train)    \n",
    "x_test= st_x.transform(x_test)   "
   ]
  },
  {
   "cell_type": "code",
   "execution_count": 43,
   "metadata": {},
   "outputs": [
    {
     "data": {
      "text/plain": [
       "DecisionTreeClassifier(criterion='entropy', random_state=0)"
      ]
     },
     "execution_count": 43,
     "metadata": {},
     "output_type": "execute_result"
    }
   ],
   "source": [
    "# Fitting Decision Tree classifier to the training set\n",
    "classifier= DecisionTreeClassifier(criterion='entropy', random_state=0)  \n",
    "classifier.fit(x_train, y_train)"
   ]
  },
  {
   "cell_type": "code",
   "execution_count": 44,
   "metadata": {},
   "outputs": [],
   "source": [
    "# Predicting the test set result  \n",
    "y_pred= classifier.predict(x_test)"
   ]
  },
  {
   "cell_type": "code",
   "execution_count": 45,
   "metadata": {},
   "outputs": [
    {
     "data": {
      "text/plain": [
       "array([1, 0, 1, 0, 1, 0, 1, 1, 1, 0, 1, 1, 0, 1, 1, 1, 1, 1, 1, 1, 1, 0,\n",
       "       1, 1, 0, 1, 1, 1, 1, 0, 0, 0, 1, 1, 0, 1, 1, 1, 1, 0, 1, 1, 1, 1,\n",
       "       0, 1], dtype=int64)"
      ]
     },
     "execution_count": 45,
     "metadata": {},
     "output_type": "execute_result"
    }
   ],
   "source": [
    "y_pred"
   ]
  },
  {
   "cell_type": "code",
   "execution_count": 1,
   "metadata": {},
   "outputs": [
    {
     "data": {
      "text/plain": [
       "8"
      ]
     },
     "execution_count": 1,
     "metadata": {},
     "output_type": "execute_result"
    }
   ],
   "source": [
    "import os\n",
    "\n",
    "os.cp"
   ]
  },
  {
   "cell_type": "code",
   "execution_count": null,
   "metadata": {},
   "outputs": [],
   "source": []
  }
 ],
 "metadata": {
  "interpreter": {
   "hash": "56b614e834c3b10fd30faed1e2c3c3c53fb4d62efd9bf20af941aec62ccc0919"
  },
  "kernelspec": {
   "display_name": "Python 3.10.3 64-bit",
   "language": "python",
   "name": "python3"
  },
  "language_info": {
   "codemirror_mode": {
    "name": "ipython",
    "version": 3
   },
   "file_extension": ".py",
   "mimetype": "text/x-python",
   "name": "python",
   "nbconvert_exporter": "python",
   "pygments_lexer": "ipython3",
   "version": "3.10.3"
  },
  "orig_nbformat": 4
 },
 "nbformat": 4,
 "nbformat_minor": 2
}
