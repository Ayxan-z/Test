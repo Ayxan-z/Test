{
 "cells": [
  {
   "cell_type": "code",
   "execution_count": 1,
   "metadata": {},
   "outputs": [],
   "source": [
    "import numpy as np\n",
    "from abc import ABC, abstractmethod"
   ]
  },
  {
   "cell_type": "code",
   "execution_count": 2,
   "metadata": {},
   "outputs": [],
   "source": [
    "class Individual(ABC):\n",
    "    def __init__(self, value=None, init_params=None):\n",
    "        if value is not None:\n",
    "            self.value = value\n",
    "        else:\n",
    "            self.value = self._random_init(init_params)\n",
    "\n",
    "    @abstractmethod\n",
    "    def pair(self, other, pair_params):\n",
    "        pass\n",
    "\n",
    "    @abstractmethod\n",
    "    def mutate(self, mutate_params):\n",
    "        pass\n",
    "\n",
    "    @abstractmethod\n",
    "    def _random_init(self, init_params):\n",
    "        pass"
   ]
  },
  {
   "cell_type": "code",
   "execution_count": 3,
   "metadata": {},
   "outputs": [],
   "source": [
    "class Optimization(Individual):\n",
    "    def pair(self, other, pair_params):\n",
    "        return Optimization(pair_params['alpha'] * self.value + (1 - pair_params['alpha']) * other.value)\n",
    "\n",
    "    def mutate(self, mutate_params):\n",
    "        self.value += np.random.normal(0, mutate_params['rate'], mutate_params['dim'])\n",
    "        for i in range(len(self.value)):\n",
    "            if self.value[i] < mutate_params['lower_bound']:\n",
    "                self.value[i] = mutate_params['lower_bound']\n",
    "            elif self.value[i] > mutate_params['upper_bound']:\n",
    "                self.value[i] = mutate_params['upper_bound']\n",
    "\n",
    "    def _random_init(self, init_params):\n",
    "        return np.random.uniform(init_params['lower_bound'], init_params['upper_bound'], init_params['dim'])"
   ]
  },
  {
   "cell_type": "code",
   "execution_count": 4,
   "metadata": {},
   "outputs": [],
   "source": [
    "class Population:\n",
    "    def __init__(self, size, fitness, individual_class, init_params):\n",
    "        self.fitness = fitness\n",
    "        self.individuals = [individual_class(init_params=init_params) for _ in range(size)]\n",
    "        self.individuals.sort(key=lambda x: self.fitness(x))\n",
    "\n",
    "    def replace(self, new_individuals):\n",
    "        size = len(self.individuals)\n",
    "        self.individuals.extend(new_individuals)\n",
    "        self.individuals.sort(key=lambda x: self.fitness(x))\n",
    "        self.individuals = self.individuals[-size:]\n",
    "\n",
    "    def get_parents(self, n_offsprings):\n",
    "        mothers = self.individuals[-2 * n_offsprings::2]\n",
    "        fathers = self.individuals[-2 * n_offsprings + 1::2]\n",
    "\n",
    "        return mothers, fathers"
   ]
  },
  {
   "cell_type": "code",
   "execution_count": 5,
   "metadata": {},
   "outputs": [],
   "source": [
    "class Evolution:\n",
    "    def __init__(self, pool_size, fitness, individual_class, n_offsprings, pair_params, mutate_params, init_params):\n",
    "        self.pair_params = pair_params\n",
    "        self.mutate_params = mutate_params\n",
    "        self.pool = Population(pool_size, fitness, individual_class, init_params)\n",
    "        self.n_offsprings = n_offsprings\n",
    "\n",
    "    def step(self):\n",
    "        mothers, fathers = self.pool.get_parents(self.n_offsprings)\n",
    "        offsprings = []\n",
    "\n",
    "        for mother, father in zip(mothers, fathers):\n",
    "            offspring = mother.pair(father, self.pair_params)\n",
    "            offspring.mutate(self.mutate_params)\n",
    "            offsprings.append(offspring)\n",
    "\n",
    "        self.pool.replace(offsprings)"
   ]
  },
  {
   "cell_type": "code",
   "execution_count": 12,
   "metadata": {},
   "outputs": [
    {
     "name": "stdout",
     "output_type": "stream",
     "text": [
      "[3.64443222]\n"
     ]
    }
   ],
   "source": [
    "def fitness(opt):\n",
    "    return -opt.value[0] * (opt.value[0] - 1) * (opt.value[0] - 2) * (opt.value[0] - 3) * (opt.value[0] - 4)\n",
    "\n",
    "\n",
    "evo = Evolution(\n",
    "    pool_size=10, fitness=fitness, individual_class=Optimization, n_offsprings=3,\n",
    "    pair_params={'alpha': 0.5},\n",
    "    mutate_params={'lower_bound': 0, 'upper_bound': 4, 'rate': 0.25, 'dim': 1},\n",
    "    init_params={'lower_bound': 0, 'upper_bound': 4, 'dim': 1}\n",
    ")\n",
    "n_epochs = 50\n",
    "\n",
    "for i in range(n_epochs):\n",
    "    evo.step()\n",
    "\n",
    "print(evo.pool.individuals[-1].value)"
   ]
  },
  {
   "cell_type": "code",
   "execution_count": null,
   "metadata": {},
   "outputs": [],
   "source": []
  }
 ],
 "metadata": {
  "interpreter": {
   "hash": "56b614e834c3b10fd30faed1e2c3c3c53fb4d62efd9bf20af941aec62ccc0919"
  },
  "kernelspec": {
   "display_name": "Python 3.10.3 64-bit",
   "language": "python",
   "name": "python3"
  },
  "language_info": {
   "codemirror_mode": {
    "name": "ipython",
    "version": 3
   },
   "file_extension": ".py",
   "mimetype": "text/x-python",
   "name": "python",
   "nbconvert_exporter": "python",
   "pygments_lexer": "ipython3",
   "version": "3.10.3"
  },
  "orig_nbformat": 4
 },
 "nbformat": 4,
 "nbformat_minor": 2
}
