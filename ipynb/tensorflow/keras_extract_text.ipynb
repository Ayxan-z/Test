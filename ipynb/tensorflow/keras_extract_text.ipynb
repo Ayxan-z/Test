{
 "cells": [
  {
   "cell_type": "code",
   "execution_count": null,
   "metadata": {},
   "outputs": [],
   "source": [
    "import matplotlib.pyplot as plt\n",
    "import keras_ocr"
   ]
  },
  {
   "cell_type": "code",
   "execution_count": null,
   "metadata": {},
   "outputs": [],
   "source": [
    "pipeline = keras_ocr.pipeline.Pipeline()\n",
    "#read image from the an image path (a jpg/png file or an image url)\n",
    "img = keras_ocr.tools.read('image.jpg')\n",
    "# Prediction_groups is a list of (word, box) tuples\n",
    "prediction_groups = pipeline.recognize([img])\n",
    "#print image with annotation and boxes\n",
    "keras_ocr.tools.drawAnnotations(image=img, predictions=prediction_groups[0])"
   ]
  },
  {
   "cell_type": "code",
   "execution_count": null,
   "metadata": {},
   "outputs": [],
   "source": []
  }
 ],
 "metadata": {
  "interpreter": {
   "hash": "56b614e834c3b10fd30faed1e2c3c3c53fb4d62efd9bf20af941aec62ccc0919"
  },
  "kernelspec": {
   "display_name": "Python 3.10.3 64-bit",
   "language": "python",
   "name": "python3"
  },
  "language_info": {
   "codemirror_mode": {
    "name": "ipython",
    "version": 3
   },
   "file_extension": ".py",
   "mimetype": "text/x-python",
   "name": "python",
   "nbconvert_exporter": "python",
   "pygments_lexer": "ipython3",
   "version": "3.10.3"
  },
  "orig_nbformat": 4
 },
 "nbformat": 4,
 "nbformat_minor": 2
}
