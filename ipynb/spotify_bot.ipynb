{
 "cells": [
  {
   "cell_type": "code",
   "execution_count": null,
   "metadata": {},
   "outputs": [],
   "source": [
    "from selenium import webdriver\n",
    "from time import sleep"
   ]
  },
  {
   "cell_type": "code",
   "execution_count": null,
   "metadata": {},
   "outputs": [],
   "source": [
    "driver_path = \"C:\\\\Users\\\\shahs\\\\Documents\\\\chromedriver.exe\"\n",
    "driver = webdriver.Chrome(executable_path=driver_path)\n",
    "driver.get(\"https://www.spotify.com/us/purchase/offer/premium/?country=BJ\")\n",
    "sleep(20)\n",
    "driver.find_element_by_class_name(\"components__TextButton-sc-1auqmn-3\").click()\n",
    "sleep(2)\n",
    "x = driver.find_elements_by_class_name(\"Link-sc-1ci8k3a-0\")"
   ]
  },
  {
   "cell_type": "code",
   "execution_count": null,
   "metadata": {},
   "outputs": [],
   "source": [
    "for i in range(len(x)-1):\n",
    "    if 'https://www.spotify.com/us/purchase/offer/premium' not in x[i].get_attribute('href'):\n",
    "        print(x[i].text, i)"
   ]
  },
  {
   "cell_type": "code",
   "execution_count": null,
   "metadata": {},
   "outputs": [],
   "source": [
    "import sqlite3\n",
    "vt = sqlite3.connect('C:\\\\Users\\\\shahs\\\\Documents\\\\test\\\\data\\\\spotify.db')"
   ]
  },
  {
   "cell_type": "code",
   "execution_count": null,
   "metadata": {},
   "outputs": [],
   "source": [
    "crs = vt.cursor()"
   ]
  },
  {
   "cell_type": "code",
   "execution_count": null,
   "metadata": {},
   "outputs": [],
   "source": [
    "crs.execute(\"CREATE TABLE spotify ('country_name', 'country_link', 'original_price', 'changed_price')\")"
   ]
  },
  {
   "cell_type": "code",
   "execution_count": null,
   "metadata": {},
   "outputs": [],
   "source": [
    "for i in range(2, len(x)):\n",
    "    name = x[i].text\n",
    "    link = x[i].get_attribute('href')\n",
    "    query = f\"\"\"INSERT INTO spotify VALUES (\"{name}\", \"{link}\", \"None\", \"None\")\"\"\"\n",
    "    crs.execute(query)\n",
    "vt.commit()"
   ]
  },
  {
   "cell_type": "code",
   "execution_count": null,
   "metadata": {},
   "outputs": [],
   "source": [
    "crs.execute(\"\"\"SELECT country_name FROM spotify\"\"\")\n",
    "data = crs.fetchall()"
   ]
  },
  {
   "cell_type": "code",
   "execution_count": null,
   "metadata": {},
   "outputs": [],
   "source": [
    "vt.close()"
   ]
  },
  {
   "cell_type": "code",
   "execution_count": null,
   "metadata": {},
   "outputs": [],
   "source": [
    "driver_path = \"C:\\\\Users\\\\shahs\\\\Documents\\\\chromedriver.exe\"\n",
    "driver = webdriver.Chrome(executable_path=driver_path)\n",
    "driver.get(\"https://accounts.spotify.com/us/login\")\n",
    "sleep(15)\n",
    "prices = []\n",
    "cnt = 0\n",
    "\n",
    "for d in data:\n",
    "    driver.get(d[0])\n",
    "    sleep(2)\n",
    "    x = driver.find_elements_by_class_name(\"Type__TypeElement-sc-1dxoivu-0\")[5].text\n",
    "    prices.append(x[:x.find('/')-1])\n",
    "    print(cnt)\n",
    "    cnt += 1"
   ]
  },
  {
   "cell_type": "code",
   "execution_count": null,
   "metadata": {},
   "outputs": [],
   "source": [
    "for i in range(len(data)):\n",
    "    sql_update_query = f\"\"\"UPDATE spotify set original_price = \"{prices[i]}\" WHERE country_name=\"{data[i][0]}\";\"\"\"\n",
    "    crs.execute(sql_update_query)\n",
    "vt.commit()"
   ]
  }
 ],
 "metadata": {
  "interpreter": {
   "hash": "56b614e834c3b10fd30faed1e2c3c3c53fb4d62efd9bf20af941aec62ccc0919"
  },
  "kernelspec": {
   "display_name": "Python 3.10.3 64-bit",
   "language": "python",
   "name": "python3"
  },
  "language_info": {
   "codemirror_mode": {
    "name": "ipython",
    "version": 3
   },
   "file_extension": ".py",
   "mimetype": "text/x-python",
   "name": "python",
   "nbconvert_exporter": "python",
   "pygments_lexer": "ipython3",
   "version": "3.10.3"
  },
  "orig_nbformat": 4
 },
 "nbformat": 4,
 "nbformat_minor": 2
}
