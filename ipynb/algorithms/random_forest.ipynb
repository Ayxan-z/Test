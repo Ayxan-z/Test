{
 "cells": [
  {
   "cell_type": "code",
   "execution_count": 1,
   "metadata": {},
   "outputs": [],
   "source": [
    "import pandas as pd\n",
    "import numpy as np\n",
    "import matplotlib.pyplot as plt\n",
    "import seaborn as sns\n",
    "from sklearn.model_selection import train_test_split\n",
    "from sklearn.ensemble import RandomForestClassifier\n",
    "from sklearn.metrics import accuracy_score \n",
    "from sklearn.metrics import confusion_matrix as cm\n",
    "from sklearn import metrics\n",
    "from sklearn.tree import DecisionTreeClassifier\n",
    "import warnings\n",
    "warnings.filterwarnings(\"ignore\")\n",
    "%matplotlib inline"
   ]
  },
  {
   "cell_type": "code",
   "execution_count": 29,
   "metadata": {},
   "outputs": [],
   "source": [
    "df = pd.read_csv('../data/adult.csv')\n",
    "df.columns = ['age', 'workclass', 'fnlwgt', 'education', 'education-num',\n",
    "            'marital-status', 'occupation', 'relationship','race', 'sex', 'capital-gain',\n",
    "            'capital-loss', 'hours-per-week', 'native-country', 'salary']"
   ]
  },
  {
   "cell_type": "code",
   "execution_count": 30,
   "metadata": {},
   "outputs": [],
   "source": [
    "X = df.drop(['salary'], axis=1)\n",
    "y = df['salary']\n",
    "\n",
    "y = np.where(df['salary'] == ' <=50K',0,1)"
   ]
  },
  {
   "cell_type": "code",
   "execution_count": 31,
   "metadata": {},
   "outputs": [],
   "source": [
    "df['capital-gain'] = df['capital-gain'].astype(float)"
   ]
  },
  {
   "cell_type": "code",
   "execution_count": null,
   "metadata": {},
   "outputs": [],
   "source": [
    "X.select_dtypes(include='object').tail(20)"
   ]
  },
  {
   "cell_type": "code",
   "execution_count": 32,
   "metadata": {},
   "outputs": [],
   "source": [
    "categorical_columns = [c for c in X.columns if X[c].dtype.name == 'object']\n",
    "\n",
    "for c in categorical_columns:\n",
    "    X[c] = np.where(X[c] == ' ?', X[c].mode(), df[c])"
   ]
  },
  {
   "cell_type": "code",
   "execution_count": 33,
   "metadata": {},
   "outputs": [],
   "source": [
    "X = pd.concat([X, pd.get_dummies(X.select_dtypes(include='object'))], axis=1)\n",
    "X = X.drop(['workclass', 'education', 'marital-status', 'occupation',\n",
    "        'relationship', 'race', 'sex', 'native-country'], axis=1)\n",
    "# X.head()"
   ]
  },
  {
   "cell_type": "code",
   "execution_count": 37,
   "metadata": {},
   "outputs": [],
   "source": [
    "X_train, X_test, y_train, y_test = train_test_split(X, y, test_size=0.3, random_state=42)"
   ]
  },
  {
   "cell_type": "code",
   "execution_count": 38,
   "metadata": {},
   "outputs": [],
   "source": [
    "x = 0\n",
    "\n",
    "X1 = X_train.iloc[[x]]\n",
    "X2 = X_train.iloc[[x+1]]\n",
    "X3 = X_train.iloc[[x+2]]\n",
    "\n",
    "while 1:\n",
    "    x += 3\n",
    "    \n",
    "    try:\n",
    "        X1 = X1.append(X_train.iloc[[x]]) \n",
    "        X2 = X2.append(X_train.iloc[[x+1]])\n",
    "        X3 = X3.append(X_train.iloc[[x+2]])\n",
    "        \n",
    "    except: break"
   ]
  },
  {
   "cell_type": "code",
   "execution_count": 39,
   "metadata": {},
   "outputs": [],
   "source": [
    "x = 0\n",
    "\n",
    "y1 = []\n",
    "y2 = []\n",
    "y3 = []\n",
    "\n",
    "while 1:\n",
    "    try:\n",
    "        y1.append(y_train[x])\n",
    "        y2.append(y_train[x+1])\n",
    "        y3.append(y_train[x+2])\n",
    "\n",
    "    except: break\n",
    "    x += 3\n",
    "\n",
    "y1 = np.array(y1)\n",
    "y2 = np.array(y2)\n",
    "y3 = np.array(y3)"
   ]
  },
  {
   "cell_type": "code",
   "execution_count": 42,
   "metadata": {},
   "outputs": [],
   "source": [
    "clf1 = DecisionTreeClassifier()\n",
    "clf2 = DecisionTreeClassifier()\n",
    "clf3 = DecisionTreeClassifier()"
   ]
  },
  {
   "cell_type": "code",
   "execution_count": 43,
   "metadata": {},
   "outputs": [],
   "source": [
    "clf1 = clf1.fit(X1, y1)\n",
    "clf2 = clf2.fit(X2, y2)\n",
    "clf3 = clf3.fit(X3, y3)"
   ]
  },
  {
   "cell_type": "code",
   "execution_count": 44,
   "metadata": {},
   "outputs": [],
   "source": [
    "predict1 = clf1.predict(X_test)\n",
    "predict2 = clf2.predict(X_test)\n",
    "predict3 = clf3.predict(X_test)"
   ]
  },
  {
   "cell_type": "code",
   "execution_count": 80,
   "metadata": {},
   "outputs": [],
   "source": [
    "predict_sum = []\n",
    "\n",
    "for i in range(len(predict1)):\n",
    "    t = 0\n",
    "    t += predict1[i] + predict2[i] + predict3[i]\n",
    "    if t > 1:\n",
    "        predict_sum.append(1)\n",
    "        \n",
    "    else: predict_sum.append(0)"
   ]
  },
  {
   "cell_type": "code",
   "execution_count": 83,
   "metadata": {},
   "outputs": [],
   "source": [
    "predict_sum = np.array(predict_sum)"
   ]
  },
  {
   "cell_type": "code",
   "execution_count": 84,
   "metadata": {},
   "outputs": [
    {
     "data": {
      "text/plain": [
       "0.8351929573139523"
      ]
     },
     "execution_count": 84,
     "metadata": {},
     "output_type": "execute_result"
    }
   ],
   "source": [
    "metrics.accuracy_score(y_test, predict_sum)"
   ]
  },
  {
   "cell_type": "code",
   "execution_count": null,
   "metadata": {},
   "outputs": [],
   "source": [
    "X_train, X_test, y_train, y_test = train_test_split(x, y, test_size=0.3, random_state=42)"
   ]
  },
  {
   "cell_type": "code",
   "execution_count": null,
   "metadata": {},
   "outputs": [],
   "source": [
    "rf = RandomForestClassifier(n_estimators=100, max_depth = 3, random_state=42)\n",
    "rf.fit(X_train, y_train)"
   ]
  },
  {
   "cell_type": "code",
   "execution_count": null,
   "metadata": {},
   "outputs": [],
   "source": [
    "predictions = rf.predict(X_test)\n",
    "score = round(accuracy_score(y_test, predictions), 3)\n",
    "cm1 = cm(y_test, predictions)\n",
    "sns.heatmap(cm1, annot=True, fmt=\".0f\")\n",
    "plt.xlabel('Predicted Values')\n",
    "plt.ylabel('Actual Values')\n",
    "plt.title('Accuracy Score: {0}'.format(score), size = 15)\n",
    "plt.show()"
   ]
  },
  {
   "cell_type": "code",
   "execution_count": null,
   "metadata": {},
   "outputs": [],
   "source": [
    "predictions"
   ]
  },
  {
   "cell_type": "code",
   "execution_count": null,
   "metadata": {},
   "outputs": [],
   "source": []
  }
 ],
 "metadata": {
  "interpreter": {
   "hash": "56b614e834c3b10fd30faed1e2c3c3c53fb4d62efd9bf20af941aec62ccc0919"
  },
  "kernelspec": {
   "display_name": "Python 3.10.3 64-bit",
   "language": "python",
   "name": "python3"
  },
  "language_info": {
   "codemirror_mode": {
    "name": "ipython",
    "version": 3
   },
   "file_extension": ".py",
   "mimetype": "text/x-python",
   "name": "python",
   "nbconvert_exporter": "python",
   "pygments_lexer": "ipython3",
   "version": "3.10.3"
  },
  "orig_nbformat": 4
 },
 "nbformat": 4,
 "nbformat_minor": 2
}
